{
 "cells": [
  {
   "cell_type": "markdown",
   "metadata": {},
   "source": [
    "Before you turn this problem in, make sure everything runs as expected. First, **restart the kernel** (in the menubar, select Kernel$\\rightarrow$Restart) and then **run all cells** (in the menubar, select Cell$\\rightarrow$Run All).\n",
    "\n",
    "Make sure you fill in any place that says `YOUR CODE HERE` or \"YOUR ANSWER HERE\", as well as your name and collaborators below:"
   ]
  },
  {
   "cell_type": "code",
   "execution_count": null,
   "metadata": {},
   "outputs": [],
   "source": [
    "NAME = \"Anouk van Veldhoven, 2008463\"\n",
    "COLLABORATORS = \"\""
   ]
  },
  {
   "cell_type": "markdown",
   "metadata": {},
   "source": [
    "---"
   ]
  },
  {
   "cell_type": "markdown",
   "metadata": {
    "deletable": false,
    "editable": false,
    "nbgrader": {
     "checksum": "e53eb7da4b90cccdbeb5924177a0d295",
     "grade": false,
     "grade_id": "cell-bace731f185b39bb",
     "locked": true,
     "schema_version": 1,
     "solution": false
    }
   },
   "source": [
    "Fill in the cell above to provide us with your name and student number, like\n",
    "\n",
    "NAME = \"Adam Smith, #student number#\"\n",
    "\n",
    "where you replace \"#student number#\" with your ... (very good!)\n",
    "\n",
    "Unfortunately, you are not allowed to work with \"COLLABORATORS\" in this exam."
   ]
  },
  {
   "cell_type": "markdown",
   "metadata": {
    "deletable": false,
    "editable": false,
    "nbgrader": {
     "checksum": "54f2a7cc5a4285f9082c5f4f2ff532f6",
     "grade": false,
     "grade_id": "cell-895e9a7b94992ec9",
     "locked": true,
     "schema_version": 1,
     "solution": false
    }
   },
   "source": [
    "# exam September 21st, 2018\n",
    "\n",
    "With this python part of the exam you can earn at max. 4 points.\n",
    "\n"
   ]
  },
  {
   "cell_type": "markdown",
   "metadata": {
    "deletable": false,
    "editable": false,
    "nbgrader": {
     "checksum": "611902f9d15318425217ea7c9329d3c4",
     "grade": false,
     "grade_id": "cell-540987818af25557",
     "locked": true,
     "schema_version": 1,
     "solution": false
    }
   },
   "source": [
    "\n",
    "In the first cell of the notebook, give us your name and student number in the way indicated above. \n",
    "\n",
    "Fill in the notebook (see below for code cells and text cells that you need to fill in).\n",
    "\n",
    "If you look at the menus above (File, Edit, View etc.), there is one called \"Cell\". If you click on this, you can change the \"Cell Type\". Choose \"Code\" when you are typing python or R code. Choose \"Markdown\" when you are typing, well, markdown.\n",
    "\n",
    "When you finish the notebook, make sure that you **save it with the output of your code included**. \n",
    "\n",
    "Then put it on github, e.g. by dragging it onto github (see instructions below). \n",
    "\n",
    "Finally, add a link to your README file with the name of this exam: \"Exam September 21, 2018\".\n",
    "\n"
   ]
  },
  {
   "cell_type": "markdown",
   "metadata": {
    "deletable": false,
    "editable": false,
    "nbgrader": {
     "checksum": "fbb9342b1fc9100447270d34e2af2d0b",
     "grade": false,
     "grade_id": "cell-e1cf88cb799f1f43",
     "locked": true,
     "schema_version": 1,
     "solution": false
    }
   },
   "source": [
    "## Generating and plotting data\n",
    "\n",
    "We start by importing the usual libraries."
   ]
  },
  {
   "cell_type": "code",
   "execution_count": 3,
   "metadata": {
    "deletable": false,
    "editable": false,
    "nbgrader": {
     "checksum": "7bd770ef54db47c3b6c8d0e31f6baef6",
     "grade": false,
     "grade_id": "cell-b895769bf40e183a",
     "locked": true,
     "schema_version": 1,
     "solution": false
    }
   },
   "outputs": [],
   "source": [
    "import matplotlib.pyplot as plt\n",
    "import pandas as pd\n",
    "import numpy as np\n",
    "from scipy import optimize\n",
    "%matplotlib inline"
   ]
  },
  {
   "cell_type": "markdown",
   "metadata": {
    "deletable": false,
    "editable": false,
    "nbgrader": {
     "checksum": "1133b2e8cbde213d1adfe10ae743bcb3",
     "grade": false,
     "grade_id": "cell-83284c4090d6de8c",
     "locked": true,
     "schema_version": 1,
     "solution": false
    }
   },
   "source": [
    "#### a) [0.5 point] Explain in words what the following code does. "
   ]
  },
  {
   "cell_type": "code",
   "execution_count": 4,
   "metadata": {
    "deletable": false,
    "editable": false,
    "nbgrader": {
     "checksum": "bc85672d4250f9fa3da40069544edd8a",
     "grade": false,
     "grade_id": "cell-7770128c0a989c60",
     "locked": true,
     "schema_version": 1,
     "solution": false
    }
   },
   "outputs": [],
   "source": [
    "n_observations = 100\n",
    "x = np.random.uniform(0,2,size=n_observations)\n",
    "df = pd.DataFrame({'x': x})"
   ]
  },
  {
   "cell_type": "code",
   "execution_count": 5,
   "metadata": {},
   "outputs": [
    {
     "name": "stdout",
     "output_type": "stream",
     "text": [
      "           x\n",
      "0   0.361903\n",
      "1   1.760359\n",
      "2   1.306589\n",
      "3   0.885442\n",
      "4   1.788930\n",
      "5   1.681050\n",
      "6   1.891534\n",
      "7   1.913997\n",
      "8   1.916469\n",
      "9   1.253577\n",
      "10  0.544091\n",
      "11  0.674877\n",
      "12  0.380992\n",
      "13  0.742334\n",
      "14  0.139430\n",
      "15  1.815050\n",
      "16  1.648072\n",
      "17  0.890265\n",
      "18  1.114364\n",
      "19  1.345491\n",
      "20  1.489865\n",
      "21  1.105836\n",
      "22  1.896157\n",
      "23  0.379784\n",
      "24  1.692954\n",
      "25  0.579898\n",
      "26  0.633520\n",
      "27  1.443271\n",
      "28  0.457746\n",
      "29  1.119894\n",
      "..       ...\n",
      "70  1.215479\n",
      "71  0.996532\n",
      "72  1.963363\n",
      "73  1.970999\n",
      "74  0.872008\n",
      "75  1.901850\n",
      "76  0.906692\n",
      "77  0.958956\n",
      "78  1.082812\n",
      "79  0.126143\n",
      "80  0.772802\n",
      "81  0.755565\n",
      "82  0.121284\n",
      "83  1.572730\n",
      "84  0.510520\n",
      "85  1.868179\n",
      "86  0.392523\n",
      "87  0.264958\n",
      "88  1.337881\n",
      "89  0.961782\n",
      "90  0.653685\n",
      "91  1.106905\n",
      "92  0.361783\n",
      "93  1.947634\n",
      "94  0.961633\n",
      "95  0.066402\n",
      "96  0.831038\n",
      "97  1.071900\n",
      "98  1.535983\n",
      "99  1.241926\n",
      "\n",
      "[100 rows x 1 columns]\n"
     ]
    }
   ],
   "source": [
    "print(df)"
   ]
  },
  {
   "cell_type": "markdown",
   "metadata": {
    "deletable": false,
    "nbgrader": {
     "checksum": "cae5873581f8c1e95ad12b5596742e37",
     "grade": true,
     "grade_id": "cell-8a5761555a34b60b",
     "locked": false,
     "points": 0.5,
     "schema_version": 1,
     "solution": true
    }
   },
   "source": [
    "The code specifies that the number of observations is 100, then the variable x is assigned a uniform distribution, of which all values are in this case within the interval 0 to 2. The size is set to 100, this means that 100 values are drawn between 0 and 2. The pd.DataFrame() command creates a dataframe df in which the number of the values that x takes are shown, with the indexes indicated at the left hand side. "
   ]
  },
  {
   "cell_type": "markdown",
   "metadata": {
    "deletable": false,
    "editable": false,
    "nbgrader": {
     "checksum": "30021008cb6073d160066f0435f60950",
     "grade": false,
     "grade_id": "cell-1a9c57d4d1fc34dc",
     "locked": true,
     "schema_version": 1,
     "solution": false
    }
   },
   "source": [
    "Now we are going to add some columns to the dataframe `df`."
   ]
  },
  {
   "cell_type": "markdown",
   "metadata": {
    "deletable": false,
    "editable": false,
    "nbgrader": {
     "checksum": "89171c99b0cc926935c561c0e75d0eef",
     "grade": false,
     "grade_id": "cell-3b8ee172d9950128",
     "locked": true,
     "schema_version": 1,
     "solution": false
    }
   },
   "source": [
    "#### b) [0.5 points] Add two columns to the data frame: (i) column `y` where $y=3*x+5$ and (ii) column `z` where $z = (x-1)^2$."
   ]
  },
  {
   "cell_type": "code",
   "execution_count": 6,
   "metadata": {
    "deletable": false,
    "nbgrader": {
     "checksum": "3b93c97ec42f6da5773b2c6beb2a8ec2",
     "grade": true,
     "grade_id": "cell-a5e7853f661e19b2",
     "locked": false,
     "points": 0.5,
     "schema_version": 1,
     "solution": true
    }
   },
   "outputs": [
    {
     "name": "stdout",
     "output_type": "stream",
     "text": [
      "           x          y         z\n",
      "0   0.361903   6.085710  0.407167\n",
      "1   1.760359  10.281076  0.578145\n",
      "2   1.306589   8.919767  0.093997\n",
      "3   0.885442   7.656325  0.013124\n",
      "4   1.788930  10.366791  0.622411\n",
      "5   1.681050  10.043149  0.463829\n",
      "6   1.891534  10.674602  0.794833\n",
      "7   1.913997  10.741992  0.835391\n",
      "8   1.916469  10.749408  0.839916\n",
      "9   1.253577   8.760730  0.064301\n",
      "10  0.544091   6.632273  0.207853\n",
      "11  0.674877   7.024630  0.105705\n",
      "12  0.380992   6.142976  0.383171\n",
      "13  0.742334   7.227003  0.066392\n",
      "14  0.139430   5.418291  0.740580\n",
      "15  1.815050  10.445151  0.664307\n",
      "16  1.648072   9.944217  0.419998\n",
      "17  0.890265   7.670794  0.012042\n",
      "18  1.114364   8.343093  0.013079\n",
      "19  1.345491   9.036474  0.119364\n",
      "20  1.489865   9.469594  0.239967\n",
      "21  1.105836   8.317509  0.011201\n",
      "22  1.896157  10.688472  0.803098\n",
      "23  0.379784   6.139352  0.384668\n",
      "24  1.692954  10.078862  0.480185\n",
      "25  0.579898   6.739695  0.176485\n",
      "26  0.633520   6.900560  0.134308\n",
      "27  1.443271   9.329813  0.196489\n",
      "28  0.457746   6.373238  0.294039\n",
      "29  1.119894   8.359681  0.014374\n",
      "..       ...        ...       ...\n",
      "70  1.215479   8.646437  0.046431\n",
      "71  0.996532   7.989596  0.000012\n",
      "72  1.963363  10.890088  0.928068\n",
      "73  1.970999  10.912997  0.942839\n",
      "74  0.872008   7.616025  0.016382\n",
      "75  1.901850  10.705551  0.813334\n",
      "76  0.906692   7.720075  0.008706\n",
      "77  0.958956   7.876867  0.001685\n",
      "78  1.082812   8.248436  0.006858\n",
      "79  0.126143   5.378428  0.763627\n",
      "80  0.772802   7.318407  0.051619\n",
      "81  0.755565   7.266696  0.059748\n",
      "82  0.121284   5.363852  0.772142\n",
      "83  1.572730   9.718190  0.328020\n",
      "84  0.510520   6.531560  0.239591\n",
      "85  1.868179  10.604537  0.753735\n",
      "86  0.392523   6.177569  0.369028\n",
      "87  0.264958   5.794873  0.540287\n",
      "88  1.337881   9.013644  0.114164\n",
      "89  0.961782   7.885346  0.001461\n",
      "90  0.653685   6.961054  0.119934\n",
      "91  1.106905   8.320716  0.011429\n",
      "92  0.361783   6.085350  0.407321\n",
      "93  1.947634  10.842903  0.898011\n",
      "94  0.961633   7.884900  0.001472\n",
      "95  0.066402   5.199205  0.871606\n",
      "96  0.831038   7.493113  0.028548\n",
      "97  1.071900   8.215700  0.005170\n",
      "98  1.535983   9.607950  0.287278\n",
      "99  1.241926   8.725779  0.058528\n",
      "\n",
      "[100 rows x 3 columns]\n"
     ]
    }
   ],
   "source": [
    "df1 = df.assign(y=3*x+5)\n",
    "df2 = df1.assign(z=(x-1)**2)\n",
    "print(df2)"
   ]
  },
  {
   "cell_type": "markdown",
   "metadata": {},
   "source": [
    "I created a new dataframe df2 with the added columns of y and z using the assign() command. "
   ]
  },
  {
   "cell_type": "markdown",
   "metadata": {
    "deletable": false,
    "editable": false,
    "nbgrader": {
     "checksum": "42f4e83dc3792b0d2a08cda8eb7d4405",
     "grade": false,
     "grade_id": "cell-4b33762aa4a601fe",
     "locked": true,
     "schema_version": 1,
     "solution": false
    }
   },
   "source": [
    "#### c) [0.5 point] Calculate the means and standard deviations for `x` and `y`. \n",
    "\n",
    "[hint: you can do this with one command or with four separate commands]"
   ]
  },
  {
   "cell_type": "code",
   "execution_count": 9,
   "metadata": {
    "deletable": false,
    "nbgrader": {
     "checksum": "024a1519155d681b57c85292df535a65",
     "grade": true,
     "grade_id": "cell-5ee215676b91f504",
     "locked": false,
     "points": 0.5,
     "schema_version": 1,
     "solution": true
    }
   },
   "outputs": [
    {
     "name": "stdout",
     "output_type": "stream",
     "text": [
      "1.051011074083852 8.153033222251564 0.6005556231109492 1.8016668693328481\n"
     ]
    }
   ],
   "source": [
    "xmean = df2[\"x\"].mean()\n",
    "ymean = df2[\"y\"].mean()\n",
    "xstd = df2[\"x\"].std()\n",
    "ystd = df2[\"y\"].std()\n",
    "print(xmean, ymean, xstd, ystd)"
   ]
  },
  {
   "cell_type": "markdown",
   "metadata": {},
   "source": [
    "I used the .mean() command to calculate the means. For this i pointed out that it should be derived from the datafram df2, and the columns of x and y. I calculated the standard deviation the same way, but with the .std() command."
   ]
  },
  {
   "cell_type": "markdown",
   "metadata": {
    "deletable": false,
    "editable": false,
    "nbgrader": {
     "checksum": "12a2717f05680c0404067457f21dacc5",
     "grade": false,
     "grade_id": "cell-3cc076ae39753881",
     "locked": true,
     "schema_version": 1,
     "solution": false
    }
   },
   "source": [
    "#### d) [0.5 points] Use your knowledge of statistics to explain the relations (i) between the means of `x` and `y` and (ii) between the standard deviations of `x` and `y`."
   ]
  },
  {
   "cell_type": "code",
   "execution_count": 12,
   "metadata": {
    "deletable": false,
    "nbgrader": {
     "checksum": "6ac5f7f87f79a5a580298b70eb6603c6",
     "grade": true,
     "grade_id": "cell-0f18e4fded25833f",
     "locked": false,
     "points": 0.5,
     "schema_version": 1,
     "solution": true
    }
   },
   "outputs": [
    {
     "name": "stdout",
     "output_type": "stream",
     "text": [
      "8.153033222251556\n"
     ]
    }
   ],
   "source": [
    "meany = 3*xmean + 5\n",
    "print(meany)"
   ]
  },
  {
   "cell_type": "markdown",
   "metadata": {},
   "source": [
    "i) I used the code above to test my thought that the relation between the mean of y and the mean of x are related in the same way as x and y, so E(y) = 3E(x) +5. This is the case because expectations, which is the same as the mean, are linear. \n",
    "ii)This is not true for the standard deviations. The standard deviation of y = 1/100 * sum of(3xi - 3xmean +10)^2, in which xi is a particular value for x from the dataframe. "
   ]
  },
  {
   "cell_type": "markdown",
   "metadata": {},
   "source": [
    "#### e) [1 point] Plot a histogram of `x` with fractions (not absolute numbers) on the vertical axis. Add the label $x$ to the horizontal axis."
   ]
  },
  {
   "cell_type": "code",
   "execution_count": 20,
   "metadata": {
    "deletable": false,
    "nbgrader": {
     "checksum": "0f23770a6c058f433beccc75429b57dc",
     "grade": true,
     "grade_id": "cell-e88dc4842fb2c38c",
     "locked": false,
     "points": 1,
     "schema_version": 1,
     "solution": true
    }
   },
   "outputs": [
    {
     "data": {
      "image/png": "[encoded data removed]",
      "text/plain": [
       "<matplotlib.figure.Figure at 0x25cfc66cef0>"
      ]
     },
     "metadata": {},
     "output_type": "display_data"
    }
   ],
   "source": [
    "plt.hist(df, normed = True, stacked = True)\n",
    "plt.title(\"df\")\n",
    "plt.xlabel(\"x\")\n",
    "plt.ylabel(\"Frequency\")\n",
    "plt.show()"
   ]
  },
  {
   "cell_type": "markdown",
   "metadata": {},
   "source": [
    "I created the histogram using plt.hist. By the arguments 'normed = True' and 'stacked = True', the histogram reflects the relative frequencies on the vertical axis. Using the commands plt.title, plt.xlabel and plt.ylabel I gave the histogram a title and labels on the horizontal and vertical axis. "
   ]
  },
  {
   "cell_type": "markdown",
   "metadata": {
    "deletable": false,
    "editable": false,
    "nbgrader": {
     "checksum": "da92092c0fc6badf93776373de6f98c0",
     "grade": false,
     "grade_id": "cell-9847a5147fc6bc0b",
     "locked": true,
     "schema_version": 1,
     "solution": false
    }
   },
   "source": [
    "#### f) [0.5 points] Make a scatter plot of `y` vs `z` with the label $y$ on the horizontal axis and the label $z$ on the vertical axis."
   ]
  },
  {
   "cell_type": "code",
   "execution_count": 18,
   "metadata": {
    "deletable": false,
    "nbgrader": {
     "checksum": "d9385c965608e0babffe255a7d375e19",
     "grade": true,
     "grade_id": "cell-6c036cfb38c024d3",
     "locked": false,
     "points": 0.5,
     "schema_version": 1,
     "solution": true
    }
   },
   "outputs": [
    {
     "data": {
      "text/plain": [
       "<function matplotlib.pyplot.show>"
      ]
     },
     "execution_count": 18,
     "metadata": {},
     "output_type": "execute_result"
    },
    {
     "data": {
      "image/png": "[encoded data removed]",
      "text/plain": [
       "<matplotlib.figure.Figure at 0x25cfca18320>"
      ]
     },
     "metadata": {},
     "output_type": "display_data"
    }
   ],
   "source": [
    "plt.scatter(df2['y'], df2['z'])\n",
    "plt.xlabel('y')\n",
    "plt.ylabel('z')\n",
    "plt.show"
   ]
  },
  {
   "cell_type": "markdown",
   "metadata": {},
   "source": [
    "I created the scatter plot using plt.scatter and pointed out that y has to be on the horizontal axis and z on the vertical axis. Then I labeled the plot. "
   ]
  },
  {
   "cell_type": "markdown",
   "metadata": {},
   "source": [
    "This relation looks rather \"perfect\". We want to make a \"noisy\" version of this graph.\n",
    "\n",
    "#### g) [0.5 points] Create a variable `z2` equal to `z` but with some \"noise\" added to it. That is, add a random variable (vector) with mean 0 to `z` to get `z2`. Then plot `y` against `z2`. Adjust the standard deviation of the \"noise\" variable such that the shape of the figure under f) can still be recognized but not perfectly.\n",
    "\n",
    "[hint: under a) you have seen the library that contains functions to create a \"noisy variable\"]"
   ]
  },
  {
   "cell_type": "code",
   "execution_count": 24,
   "metadata": {
    "deletable": false,
    "nbgrader": {
     "checksum": "86b22fc81cb0732c67f8ae691dc00bcb",
     "grade": true,
     "grade_id": "cell-7fa47e5d66a06417",
     "locked": false,
     "points": 0.5,
     "schema_version": 1,
     "solution": true
    }
   },
   "outputs": [
    {
     "data": {
      "text/plain": [
       "<function matplotlib.pyplot.show>"
      ]
     },
     "execution_count": 24,
     "metadata": {},
     "output_type": "execute_result"
    },
    {
     "data": {
      "image/png": "[encoded data removed]",
      "text/plain": [
       "<matplotlib.figure.Figure at 0x25cfcb43748>"
      ]
     },
     "metadata": {},
     "output_type": "display_data"
    }
   ],
   "source": [
    "noise = np.random.uniform(0,1,size=n_observations)\n",
    "z2 = df2['z'] + noise\n",
    "plt.scatter(df2['y'], z2)\n",
    "plt.xlabel('y')\n",
    "plt.ylabel('z2')\n",
    "plt.show"
   ]
  },
  {
   "cell_type": "markdown",
   "metadata": {},
   "source": [
    "I created the variable noise, that is a uniform distribution of values between 0 and 1. Adding this to z into the variable z2 and plotting z2 against y gives the scatterplot with the same shape, but the dots are not on a perfect line anymore, like in question f. "
   ]
  },
  {
   "cell_type": "markdown",
   "metadata": {},
   "source": [
    "## Github\n",
    "\n",
    "After you have finished, we need to upload this notebook on github."
   ]
  },
  {
   "cell_type": "markdown",
   "metadata": {},
   "source": [
    "Instructions on how to upload this on github can be found [on this page](http://janboone.github.io/programming-for-economists/github.html). This page has two screencasts: one shows how to drag the notebook onto your github page, the other shows how you can use the command line to upload your notebook.\n"
   ]
  },
  {
   "cell_type": "markdown",
   "metadata": {},
   "source": [
    "Remember to update the README file in your repository to include a link to this notebook on github.\n",
    "\n",
    "\n",
    "The links that you should post start with “github.com/” and are NOT of the form “http://localhost”. Make sure you test your links after uploading."
   ]
  },
  {
   "cell_type": "code",
   "execution_count": null,
   "metadata": {},
   "outputs": [],
   "source": []
  }
 ],
 "metadata": {
  "anaconda-cloud": {},
  "kernelspec": {
   "display_name": "Python 3",
   "language": "python",
   "name": "python3"
  },
  "language_info": {
   "codemirror_mode": {
    "name": "ipython",
    "version": 3
   },
   "file_extension": ".py",
   "mimetype": "text/x-python",
   "name": "python",
   "nbconvert_exporter": "python",
   "pygments_lexer": "ipython3",
   "version": "3.6.4"
  }
 },
 "nbformat": 4,
 "nbformat_minor": 1
}
